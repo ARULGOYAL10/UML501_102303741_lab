{
  "nbformat": 4,
  "nbformat_minor": 0,
  "metadata": {
    "colab": {
      "provenance": []
    },
    "kernelspec": {
      "name": "python3",
      "display_name": "Python 3"
    },
    "language_info": {
      "name": "python"
    }
  },
  "cells": [
    {
      "cell_type": "markdown",
      "source": [
        "Assignment 1\n"
      ],
      "metadata": {
        "id": "FrkgojKWKIID"
      }
    },
    {
      "cell_type": "markdown",
      "source": [
        "Arul Goyal (102303741)"
      ],
      "metadata": {
        "id": "hN-Dc6OHKAdi"
      }
    },
    {
      "cell_type": "markdown",
      "source": [
        "Q1) a.Reverse the NumPy array: arr = np.array([1, 2, 3, 6, 4, 5])"
      ],
      "metadata": {
        "id": "JR1IifwMKSK8"
      }
    },
    {
      "cell_type": "code",
      "execution_count": null,
      "metadata": {
        "colab": {
          "base_uri": "https://localhost:8080/"
        },
        "id": "d-2JpXTXxgPH",
        "outputId": "5c7a8391-11a4-4ea0-e199-528878b3014b"
      },
      "outputs": [
        {
          "output_type": "stream",
          "name": "stdout",
          "text": [
            "[6 5 4 3 2 1]\n"
          ]
        }
      ],
      "source": [
        "import numpy as np\n",
        "arr= np.array([1,2,3,4,5,6])\n",
        "reversed= np.flip(arr)\n",
        "print(reversed)"
      ]
    },
    {
      "cell_type": "markdown",
      "source": [
        "Q2) b.Flatten the NumPy arr: array1 = np.array([[1, 2, 3], [2, 4, 5], [1, 2, 3]]) using any two\n",
        "NumPy in-built methods"
      ],
      "metadata": {
        "id": "Cx8ZkNzF9wbD"
      }
    },
    {
      "cell_type": "code",
      "source": [
        "arr1= np.array([[1],[2],[3]])\n",
        "arr1=np.ravel(arr1)\n",
        "print(arr1)"
      ],
      "metadata": {
        "colab": {
          "base_uri": "https://localhost:8080/"
        },
        "id": "gtuCiBVZyrQO",
        "outputId": "156f1f61-9157-419c-bee5-1e6b842f72ce"
      },
      "execution_count": null,
      "outputs": [
        {
          "output_type": "stream",
          "name": "stdout",
          "text": [
            "[1 2 3]\n"
          ]
        }
      ]
    },
    {
      "cell_type": "markdown",
      "source": [
        "Q3) c. Compare the following numpy arrays:\n",
        "arr1 = np.array([[1, 2], [3, 4]])\n",
        "arr2 = np.array([[1, 2], [3, 4]])"
      ],
      "metadata": {
        "id": "IN3_bhdxK0fW"
      }
    },
    {
      "cell_type": "code",
      "source": [
        "array1=np.array([[1,2,3],[2,3,4]])\n",
        "array2= np.array([[1,2,3],[2,3,4]])\n",
        "print(np.array_equal(array1,array2))"
      ],
      "metadata": {
        "colab": {
          "base_uri": "https://localhost:8080/"
        },
        "id": "qjYJcxYpzhgO",
        "outputId": "53530cc6-3267-4428-d649-c3bba324f841"
      },
      "execution_count": null,
      "outputs": [
        {
          "output_type": "stream",
          "name": "stdout",
          "text": [
            "True\n"
          ]
        }
      ]
    },
    {
      "cell_type": "markdown",
      "source": [
        "Q1) d. Find the most frequent value and their indice(s) in the following arrays:\n",
        "i. x = np.array([1,2,3,4,5,1,2,1,1,1])\n",
        "ii. y = np.array([1, 1, 1, 2, 3, 4, 2, 4, 3, 3, ])\n"
      ],
      "metadata": {
        "id": "ezbGnj4oLitg"
      }
    },
    {
      "cell_type": "code",
      "source": [
        "x = np.array([1, 2, 2, 3, 1, 1])\n",
        "\n",
        "values, counts = np.unique(x,True)\n",
        "ind=np.argmax(counts)\n",
        "most=values[ind]\n",
        "freq= np.where(x==most)[0]\n",
        "print(most)\n",
        "print(\"Present at\")\n",
        "print(freq)\n",
        "\n",
        "\n"
      ],
      "metadata": {
        "colab": {
          "base_uri": "https://localhost:8080/"
        },
        "id": "ZmChVWkZ0d9c",
        "outputId": "6ca194b6-f8f4-4503-dd08-11920ed1a409"
      },
      "execution_count": null,
      "outputs": [
        {
          "output_type": "stream",
          "name": "stdout",
          "text": [
            "3\n",
            "Present at\n",
            "[3]\n"
          ]
        }
      ]
    },
    {
      "cell_type": "code",
      "source": [
        "y = np.array([1, 1, 1, 2, 3, 4, 2, 4, 3, 3])\n",
        "\n",
        "values, counts = np.unique(y,True)\n",
        "ind = np.argmax(counts)\n",
        "most = values[ind]\n",
        "freq = np.where(y == most)[0]\n",
        "print(most)\n",
        "print(\"Present at\")\n",
        "print(freq)"
      ],
      "metadata": {
        "colab": {
          "base_uri": "https://localhost:8080/"
        },
        "id": "bYikAYPzM4UI",
        "outputId": "275784fb-c8a6-4b98-bb2f-fbf66789fcd9"
      },
      "execution_count": null,
      "outputs": [
        {
          "output_type": "stream",
          "name": "stdout",
          "text": [
            "1\n",
            "Present at\n",
            "[0 1 2]\n"
          ]
        }
      ]
    },
    {
      "cell_type": "markdown",
      "source": [
        "Q1) e. For the array gfg = np.matrix('[4, 1, 9; 12, 3, 1; 4, 5, 6]'), find\n",
        "i. Sum of all elements\n",
        "ii. Sum of all elements row-wise\n",
        "iii. Sum of all elements column-wise\n"
      ],
      "metadata": {
        "id": "TYHOVJI2UvQc"
      }
    },
    {
      "cell_type": "code",
      "source": [
        "gfg = np.matrix('[4, 1, 9; 12, 3, 1; 4, 5, 6]')\n",
        "sum_elements=gfg.sum()\n",
        "print(\"All elements' sum: \",sum_elements)\n",
        "sum_row=gfg.sum(axis=1)\n",
        "print(\"Row-wise sum: \",sum_row)\n",
        "sum_col=gfg.sum(axis=0)\n",
        "print(\"Column-wise sum: \",sum_col)"
      ],
      "metadata": {
        "id": "QvhX27HHGHjq",
        "colab": {
          "base_uri": "https://localhost:8080/"
        },
        "outputId": "41e9f366-6a7b-4277-ca9a-5c982709f665"
      },
      "execution_count": null,
      "outputs": [
        {
          "output_type": "stream",
          "name": "stdout",
          "text": [
            "All elements' sum:  45\n",
            "Row-wise sum:  [[14]\n",
            " [16]\n",
            " [15]]\n",
            "Column-wise sum:  [[20  9 16]]\n"
          ]
        }
      ]
    },
    {
      "cell_type": "markdown",
      "source": [
        "Q1) f. Multiply the following matrices and also find covariance between matrices using NumPy:\n",
        "i. p = [[1, 2], [2, 3]]\n",
        "q = [[4, 5], [6, 7]]\n",
        "ii. p = [[1, 2], [2, 3], [4, 5]]\n",
        "q = [[4, 5, 1], [6, 7, 2]]"
      ],
      "metadata": {
        "id": "6IW2CRlIWBdb"
      }
    },
    {
      "cell_type": "markdown",
      "source": [
        "(i)"
      ],
      "metadata": {
        "id": "gOBfA6RxW7dq"
      }
    },
    {
      "cell_type": "code",
      "source": [
        "p = np.array([[1, 2], [2, 3]])\n",
        "q = np.array([[4, 5], [6, 7]])\n",
        "\n",
        "product = np.matmul(p, q)\n",
        "print(product)"
      ],
      "metadata": {
        "colab": {
          "base_uri": "https://localhost:8080/"
        },
        "id": "pl1odbAYWMxi",
        "outputId": "6cd4cc22-e4f3-43be-f5ae-a39696e6e016"
      },
      "execution_count": null,
      "outputs": [
        {
          "output_type": "stream",
          "name": "stdout",
          "text": [
            "[[16 19]\n",
            " [26 31]]\n"
          ]
        }
      ]
    },
    {
      "cell_type": "markdown",
      "source": [
        "(ii)"
      ],
      "metadata": {
        "id": "-CRDJ08DXQLr"
      }
    },
    {
      "cell_type": "code",
      "source": [
        "p = np.array([[1, 2], [2, 3], [4, 5]])\n",
        "q = np.array([[4, 5, 1], [6, 7, 2]])\n",
        "\n",
        "product = np.matmul(p, q)\n",
        "print(product)"
      ],
      "metadata": {
        "colab": {
          "base_uri": "https://localhost:8080/"
        },
        "id": "QpwwrqebXReE",
        "outputId": "6dbb22aa-85c6-453f-ecd8-aadf90935175"
      },
      "execution_count": null,
      "outputs": [
        {
          "output_type": "stream",
          "name": "stdout",
          "text": [
            "[[16 19  5]\n",
            " [26 31  8]\n",
            " [46 55 14]]\n"
          ]
        }
      ]
    },
    {
      "cell_type": "markdown",
      "source": [
        "Q1) g. Multiply the following matrices and also find covariance between matrices using NumPy:\n",
        "i. p = [[1, 2], [2, 3]]\n",
        "q = [[4, 5], [6, 7]]\n",
        "ii. p = [[1, 2], [2, 3], [4, 5]]\n",
        "q = [[4, 5, 1], [6, 7, 2]]"
      ],
      "metadata": {
        "id": "6P-ukRNBYcpv"
      }
    },
    {
      "cell_type": "code",
      "source": [
        "p = np.array([[1, 2], [2, 3]])\n",
        "q = np.array([[4, 5], [6, 7]])\n",
        "\n",
        "product = np.matmul(p, q)\n",
        "print(product)\n",
        "p_flat = p.flatten()\n",
        "q_flat = q.flatten()\n",
        "\n",
        "combined = np.stack((p_flat, q_flat))  # shape: (2, 4)\n",
        "covariance = np.cov(combined)\n",
        "print(\"Covariance\", covariance)\n"
      ],
      "metadata": {
        "colab": {
          "base_uri": "https://localhost:8080/"
        },
        "id": "cKy8b6kLYjCt",
        "outputId": "2dbec11f-94d8-4c59-d188-0e064fcba265"
      },
      "execution_count": null,
      "outputs": [
        {
          "output_type": "stream",
          "name": "stdout",
          "text": [
            "[[16 19]\n",
            " [26 31]]\n",
            "Covariance [[0.66666667 1.        ]\n",
            " [1.         1.66666667]]\n"
          ]
        }
      ]
    },
    {
      "cell_type": "markdown",
      "source": [
        "(ii)"
      ],
      "metadata": {
        "id": "l-By4JhMZIw1"
      }
    },
    {
      "cell_type": "code",
      "source": [
        "p_flat = p.flatten()\n",
        "q_flat = q.flatten()\n",
        "\n",
        "combined = np.stack((p_flat, q_flat))  # shape: (2, 4)\n",
        "covariance = np.cov(combined)\n",
        "print(\"Covariance\", covariance)\n",
        "p_flat = p.flatten()\n",
        "q_flat = q.flatten()\n",
        "\n",
        "combined = np.stack((p_flat, q_flat))  # shape: (2, 6)\n",
        "covariance = np.cov(combined)\n",
        "print(\"Covariance\", covariance)\n"
      ],
      "metadata": {
        "colab": {
          "base_uri": "https://localhost:8080/"
        },
        "id": "BQrNVwCJZP18",
        "outputId": "996bd157-d30b-46ca-cc26-c8330d825a03"
      },
      "execution_count": null,
      "outputs": [
        {
          "output_type": "stream",
          "name": "stdout",
          "text": [
            "Covariance Matrix:\n",
            " [[0.66666667 1.        ]\n",
            " [1.         1.66666667]]\n",
            "Covariance Matrix:\n",
            " [[0.66666667 1.        ]\n",
            " [1.         1.66666667]]\n"
          ]
        }
      ]
    },
    {
      "cell_type": "markdown",
      "source": [
        "Q1) (h) For the matrices: x = np.array([[2, 3, 4], [3, 2, 9]]); y = np.array([[1, 5, 0], [5, 10, 3]]),\n",
        "find inner, outer and cartesian product?"
      ],
      "metadata": {
        "id": "c-oeiAY_XT_U"
      }
    },
    {
      "cell_type": "code",
      "source": [
        "from itertools import product\n",
        "x = np.array([[2, 3, 4],\n",
        "              [3, 2, 9]])\n",
        "\n",
        "y = np.array([[1, 5, 0],\n",
        "              [5, 10, 3]])\n",
        "inner = np.inner(x, y)\n",
        "print(\"Inner Product:\",inner)\n",
        "outer = np.outer(x, y)\n",
        "print(\"Outer Product:\",outer)\n",
        "x1 = x.flatten()\n",
        "y1 = y.flatten()\n",
        "\n",
        "cartesian = np.array(list(product(x1, y1)))\n",
        "print(\"Cartesian Product:\", cartesian)"
      ],
      "metadata": {
        "colab": {
          "base_uri": "https://localhost:8080/"
        },
        "id": "yvC1DrBfXaa7",
        "outputId": "81e16aec-ecd5-40ba-9869-ad56ca8f60e3"
      },
      "execution_count": null,
      "outputs": [
        {
          "output_type": "stream",
          "name": "stdout",
          "text": [
            "Inner Product: [[17 52]\n",
            " [13 62]]\n",
            "Outer Product: [[ 2 10  0 10 20  6]\n",
            " [ 3 15  0 15 30  9]\n",
            " [ 4 20  0 20 40 12]\n",
            " [ 3 15  0 15 30  9]\n",
            " [ 2 10  0 10 20  6]\n",
            " [ 9 45  0 45 90 27]]\n",
            "Cartesian Product: [[ 2  1]\n",
            " [ 2  5]\n",
            " [ 2  0]\n",
            " [ 2  5]\n",
            " [ 2 10]\n",
            " [ 2  3]\n",
            " [ 3  1]\n",
            " [ 3  5]\n",
            " [ 3  0]\n",
            " [ 3  5]\n",
            " [ 3 10]\n",
            " [ 3  3]\n",
            " [ 4  1]\n",
            " [ 4  5]\n",
            " [ 4  0]\n",
            " [ 4  5]\n",
            " [ 4 10]\n",
            " [ 4  3]\n",
            " [ 3  1]\n",
            " [ 3  5]\n",
            " [ 3  0]\n",
            " [ 3  5]\n",
            " [ 3 10]\n",
            " [ 3  3]\n",
            " [ 2  1]\n",
            " [ 2  5]\n",
            " [ 2  0]\n",
            " [ 2  5]\n",
            " [ 2 10]\n",
            " [ 2  3]\n",
            " [ 9  1]\n",
            " [ 9  5]\n",
            " [ 9  0]\n",
            " [ 9  5]\n",
            " [ 9 10]\n",
            " [ 9  3]]\n"
          ]
        }
      ]
    },
    {
      "cell_type": "markdown",
      "source": [
        "Q2) For the array: array = np.array([[1, -2, 3],[-4, 5, -6]])\n"
      ],
      "metadata": {
        "id": "Py7L3uTdbO3e"
      }
    },
    {
      "cell_type": "markdown",
      "source": [
        "i. Find element-wise absolute value"
      ],
      "metadata": {
        "id": "disuA0mFbSu-"
      }
    },
    {
      "cell_type": "code",
      "source": [
        "array = np.array([[1, -2, 3],\n",
        "                  [-4, 5, -6]])\n",
        "abs_array = np.abs(array)\n",
        "print(\"Element-wise Absolute:\")\n",
        "print(abs_array)"
      ],
      "metadata": {
        "colab": {
          "base_uri": "https://localhost:8080/"
        },
        "id": "aDPmkqGgX_4W",
        "outputId": "f03b5e9b-09b1-4b39-9ae5-9e42c82e90e9"
      },
      "execution_count": null,
      "outputs": [
        {
          "output_type": "stream",
          "name": "stdout",
          "text": [
            "Element-wise Absolute:\n",
            "[[1 2 3]\n",
            " [4 5 6]]\n"
          ]
        }
      ]
    },
    {
      "cell_type": "markdown",
      "source": [
        "ii. Find the 25th, 50th, and 75th percentile of flattened array, for each column, for each\n",
        "row"
      ],
      "metadata": {
        "id": "K0MjuFEadCwS"
      }
    },
    {
      "cell_type": "code",
      "source": [
        "array = np.array([[1, -2, 3],\n",
        "                  [-4, 5, -6]])\n",
        "flat = array.flatten()\n",
        "\n",
        "p25a = np.percentile(flat, 25)\n",
        "p50a = np.percentile(flat, 50)\n",
        "p75a = np.percentile(flat, 75)\n",
        "\n",
        "print(\"Flattened Array Percentiles:\")\n",
        "print(\"25th:\", p25a)\n",
        "print(\"50th (Median):\", p50a)\n",
        "print(\"75th:\", p75a)\n",
        "p25b=np.percentile(array, 25, axis=0)\n",
        "p50b=np.percentile(array, 50, axis=0)\n",
        "p75b=np.percentile(array, 75, axis=0)\n",
        "\n",
        "print(\"Column-wise Percentiles:\")\n",
        "print(\"25th:\", p25b)\n",
        "print(\"50th:\", p50b)\n",
        "print(\"75th:\", p75b)\n",
        "p25c = np.percentile(array, 25, axis=1)\n",
        "p50c = np.percentile(array, 50, axis=1)\n",
        "p75c = np.percentile(array, 75, axis=1)\n",
        "\n",
        "print(\"Row-wise Percentiles:\")\n",
        "print(\"25th:\", p25c)\n",
        "print(\"50th:\", p50c)\n",
        "print(\"75th:\", p75c)\n"
      ],
      "metadata": {
        "colab": {
          "base_uri": "https://localhost:8080/"
        },
        "id": "sh1Rhq_YdGfd",
        "outputId": "edf7fe4f-89f7-4ec0-e0a4-4561f7b4fecc"
      },
      "execution_count": null,
      "outputs": [
        {
          "output_type": "stream",
          "name": "stdout",
          "text": [
            "Flattened Array Percentiles:\n",
            "25th: -3.5\n",
            "50th (Median): -0.5\n",
            "75th: 2.5\n",
            "Column-wise Percentiles:\n",
            "25th: [-2.75 -0.25 -3.75]\n",
            "50th: [-1.5  1.5 -1.5]\n",
            "75th: [-0.25  3.25  0.75]\n",
            "Row-wise Percentiles:\n",
            "25th: [-0.5 -5. ]\n",
            "50th: [ 1. -4.]\n",
            "75th: [2.  0.5]\n"
          ]
        }
      ]
    },
    {
      "cell_type": "markdown",
      "source": [
        "iii. Mean, Median and Standard Deviation of flattened array, of each column, and\n",
        "each row"
      ],
      "metadata": {
        "id": "CECCSN4EdxPR"
      }
    },
    {
      "cell_type": "code",
      "source": [
        "print(\"Flattened array\")\n",
        "print(\"Mean:\", np.mean(flat))\n",
        "print(\"Median:\", np.median(flat))\n",
        "print(\"Standard Deviation:\", np.std(flat))\n",
        "\n",
        "print(\"Each column\")\n",
        "print(\"Mean:\", np.mean(array, axis=0))\n",
        "print(\"Median:\", np.median(array, axis=0))\n",
        "print(\"Standard Deviation:\", np.std(array, axis=0))\n",
        "\n",
        "print(\"Each row\")\n",
        "print(\"Mean:\", np.mean(array, axis=1))\n",
        "print(\"Median:\", np.median(array, axis=1))\n",
        "print(\"Standard Deviation:\", np.std(array, axis=1))"
      ],
      "metadata": {
        "colab": {
          "base_uri": "https://localhost:8080/"
        },
        "id": "bgkctaVfeBPO",
        "outputId": "607aa1ec-16b2-4f9f-d3a6-350daccb5f1d"
      },
      "execution_count": null,
      "outputs": [
        {
          "output_type": "stream",
          "name": "stdout",
          "text": [
            "Flattened array\n",
            "Mean: -0.5\n",
            "Median: -0.5\n",
            "Standard Deviation: 3.8622100754188224\n",
            "Each column\n",
            "Mean: [-1.5  1.5 -1.5]\n",
            "Median: [-1.5  1.5 -1.5]\n",
            "Standard Deviation: [2.5 3.5 4.5]\n",
            "Each row\n",
            "Mean: [ 0.66666667 -1.66666667]\n",
            "Median: [ 1. -4.]\n",
            "Standard Deviation: [2.05480467 4.78423336]\n"
          ]
        }
      ]
    },
    {
      "cell_type": "markdown",
      "source": [
        "Q2 b) For the array: a = np.array([-1.8, -1.6, -0.5, 0.5,1.6, 1.8, 3.0]). Find floor, ceiling\n",
        "and truncated value, rounded values"
      ],
      "metadata": {
        "id": "zQD2--59fI7V"
      }
    },
    {
      "cell_type": "code",
      "source": [
        "a = np.array([-1.8, -1.6, -0.5, 0.5, 1.6, 1.8, 3.0])\n",
        "\n",
        "print(\"Floor Values:\", np.floor(a))\n",
        "print(\"Ceiling Values:\", np.ceil(a))\n",
        "print(\"Truncated Values:\", np.trunc(a))\n",
        "print(\"Rounded Values:\", np.round(a))\n"
      ],
      "metadata": {
        "colab": {
          "base_uri": "https://localhost:8080/"
        },
        "id": "8y3QgTEpfNa_",
        "outputId": "5ab46677-08f8-4dc9-e7bf-0b6c4c8a1c1e"
      },
      "execution_count": null,
      "outputs": [
        {
          "output_type": "stream",
          "name": "stdout",
          "text": [
            "Floor Values: [-2. -2. -1.  0.  1.  1.  3.]\n",
            "Ceiling Values: [-1. -1. -0.  1.  2.  2.  3.]\n",
            "Truncated Values: [-1. -1. -0.  0.  1.  1.  3.]\n",
            "Rounded Values: [-2. -2. -0.  0.  2.  2.  3.]\n"
          ]
        }
      ]
    },
    {
      "cell_type": "markdown",
      "source": [
        "Q3) (a) For the array: array = np.array([10, 52, 62, 16, 16, 54, 453]), find\n",
        "i. Sorted array\n",
        "ii. Indices of sorted array\n",
        "iii. 4 smallest elements\n",
        "iv. 5 largest elements"
      ],
      "metadata": {
        "id": "Pb1N_SHNfb2I"
      }
    },
    {
      "cell_type": "code",
      "source": [
        "array = np.array([10, 52, 62, 16, 16, 54, 453])\n",
        "\n",
        "print(\"Sorted Array:\", np.sort(array))\n",
        "print(\"Indices of Sorted Array:\", np.argsort(array))\n",
        "print(\"4 Smallest Elements:\", np.sort(array)[:4])\n",
        "print(\"5 Largest Elements:\", np.sort(array)[-5:])\n"
      ],
      "metadata": {
        "id": "WEC_M5oPgFH-"
      },
      "execution_count": null,
      "outputs": []
    },
    {
      "cell_type": "markdown",
      "source": [
        "Q3) (b) For the array: array = np.array([1.0, 1.2, 2.2, 2.0, 3.0, 2.0]),\n",
        "find\n",
        "\n",
        "i. Integer elements only\n",
        "\n",
        "ii. Float elements only"
      ],
      "metadata": {
        "id": "SyDAy0FvgJXU"
      }
    },
    {
      "cell_type": "code",
      "source": [
        "array = np.array([1.0, 1.2, 2.2, 2.0, 3.0, 2.0])\n",
        "\n",
        "int_elements = array[array == np.floor(array)]\n",
        "float_elements = array[array != np.floor(array)]\n",
        "\n",
        "print(\"Integer Elements:\", int_elements)\n",
        "print(\"Float Elements:\", float_elements)\n"
      ],
      "metadata": {
        "colab": {
          "base_uri": "https://localhost:8080/"
        },
        "id": "wKhpEjXAgPZN",
        "outputId": "79758964-ac0e-4d2a-fa20-7956962bb10c"
      },
      "execution_count": null,
      "outputs": [
        {
          "output_type": "stream",
          "name": "stdout",
          "text": [
            "Integer Elements: [1. 2. 3. 2.]\n",
            "Float Elements: [1.2 2.2]\n"
          ]
        }
      ]
    },
    {
      "cell_type": "markdown",
      "source": [
        "Q4) a. Write a function named img_to_array(path) that reads an image from a specified path and\n",
        "save it as text file on local machine? (Note: use separate cases for RGB and Grey Scale\n",
        "images)"
      ],
      "metadata": {
        "id": "7aH1wz8ugo0_"
      }
    },
    {
      "cell_type": "code",
      "source": [
        "from google.colab import files\n",
        "uploaded = files.upload()"
      ],
      "metadata": {
        "colab": {
          "base_uri": "https://localhost:8080/",
          "height": 73
        },
        "id": "_cBSEsb9gnzZ",
        "outputId": "c147c960-853a-48f6-b89f-361b7ee9df51"
      },
      "execution_count": null,
      "outputs": [
        {
          "output_type": "display_data",
          "data": {
            "text/plain": [
              "<IPython.core.display.HTML object>"
            ],
            "text/html": [
              "\n",
              "     <input type=\"file\" id=\"files-d7475e58-fed7-443e-bbb5-e60d38c1d444\" name=\"files[]\" multiple disabled\n",
              "        style=\"border:none\" />\n",
              "     <output id=\"result-d7475e58-fed7-443e-bbb5-e60d38c1d444\">\n",
              "      Upload widget is only available when the cell has been executed in the\n",
              "      current browser session. Please rerun this cell to enable.\n",
              "      </output>\n",
              "      <script>// Copyright 2017 Google LLC\n",
              "//\n",
              "// Licensed under the Apache License, Version 2.0 (the \"License\");\n",
              "// you may not use this file except in compliance with the License.\n",
              "// You may obtain a copy of the License at\n",
              "//\n",
              "//      http://www.apache.org/licenses/LICENSE-2.0\n",
              "//\n",
              "// Unless required by applicable law or agreed to in writing, software\n",
              "// distributed under the License is distributed on an \"AS IS\" BASIS,\n",
              "// WITHOUT WARRANTIES OR CONDITIONS OF ANY KIND, either express or implied.\n",
              "// See the License for the specific language governing permissions and\n",
              "// limitations under the License.\n",
              "\n",
              "/**\n",
              " * @fileoverview Helpers for google.colab Python module.\n",
              " */\n",
              "(function(scope) {\n",
              "function span(text, styleAttributes = {}) {\n",
              "  const element = document.createElement('span');\n",
              "  element.textContent = text;\n",
              "  for (const key of Object.keys(styleAttributes)) {\n",
              "    element.style[key] = styleAttributes[key];\n",
              "  }\n",
              "  return element;\n",
              "}\n",
              "\n",
              "// Max number of bytes which will be uploaded at a time.\n",
              "const MAX_PAYLOAD_SIZE = 100 * 1024;\n",
              "\n",
              "function _uploadFiles(inputId, outputId) {\n",
              "  const steps = uploadFilesStep(inputId, outputId);\n",
              "  const outputElement = document.getElementById(outputId);\n",
              "  // Cache steps on the outputElement to make it available for the next call\n",
              "  // to uploadFilesContinue from Python.\n",
              "  outputElement.steps = steps;\n",
              "\n",
              "  return _uploadFilesContinue(outputId);\n",
              "}\n",
              "\n",
              "// This is roughly an async generator (not supported in the browser yet),\n",
              "// where there are multiple asynchronous steps and the Python side is going\n",
              "// to poll for completion of each step.\n",
              "// This uses a Promise to block the python side on completion of each step,\n",
              "// then passes the result of the previous step as the input to the next step.\n",
              "function _uploadFilesContinue(outputId) {\n",
              "  const outputElement = document.getElementById(outputId);\n",
              "  const steps = outputElement.steps;\n",
              "\n",
              "  const next = steps.next(outputElement.lastPromiseValue);\n",
              "  return Promise.resolve(next.value.promise).then((value) => {\n",
              "    // Cache the last promise value to make it available to the next\n",
              "    // step of the generator.\n",
              "    outputElement.lastPromiseValue = value;\n",
              "    return next.value.response;\n",
              "  });\n",
              "}\n",
              "\n",
              "/**\n",
              " * Generator function which is called between each async step of the upload\n",
              " * process.\n",
              " * @param {string} inputId Element ID of the input file picker element.\n",
              " * @param {string} outputId Element ID of the output display.\n",
              " * @return {!Iterable<!Object>} Iterable of next steps.\n",
              " */\n",
              "function* uploadFilesStep(inputId, outputId) {\n",
              "  const inputElement = document.getElementById(inputId);\n",
              "  inputElement.disabled = false;\n",
              "\n",
              "  const outputElement = document.getElementById(outputId);\n",
              "  outputElement.innerHTML = '';\n",
              "\n",
              "  const pickedPromise = new Promise((resolve) => {\n",
              "    inputElement.addEventListener('change', (e) => {\n",
              "      resolve(e.target.files);\n",
              "    });\n",
              "  });\n",
              "\n",
              "  const cancel = document.createElement('button');\n",
              "  inputElement.parentElement.appendChild(cancel);\n",
              "  cancel.textContent = 'Cancel upload';\n",
              "  const cancelPromise = new Promise((resolve) => {\n",
              "    cancel.onclick = () => {\n",
              "      resolve(null);\n",
              "    };\n",
              "  });\n",
              "\n",
              "  // Wait for the user to pick the files.\n",
              "  const files = yield {\n",
              "    promise: Promise.race([pickedPromise, cancelPromise]),\n",
              "    response: {\n",
              "      action: 'starting',\n",
              "    }\n",
              "  };\n",
              "\n",
              "  cancel.remove();\n",
              "\n",
              "  // Disable the input element since further picks are not allowed.\n",
              "  inputElement.disabled = true;\n",
              "\n",
              "  if (!files) {\n",
              "    return {\n",
              "      response: {\n",
              "        action: 'complete',\n",
              "      }\n",
              "    };\n",
              "  }\n",
              "\n",
              "  for (const file of files) {\n",
              "    const li = document.createElement('li');\n",
              "    li.append(span(file.name, {fontWeight: 'bold'}));\n",
              "    li.append(span(\n",
              "        `(${file.type || 'n/a'}) - ${file.size} bytes, ` +\n",
              "        `last modified: ${\n",
              "            file.lastModifiedDate ? file.lastModifiedDate.toLocaleDateString() :\n",
              "                                    'n/a'} - `));\n",
              "    const percent = span('0% done');\n",
              "    li.appendChild(percent);\n",
              "\n",
              "    outputElement.appendChild(li);\n",
              "\n",
              "    const fileDataPromise = new Promise((resolve) => {\n",
              "      const reader = new FileReader();\n",
              "      reader.onload = (e) => {\n",
              "        resolve(e.target.result);\n",
              "      };\n",
              "      reader.readAsArrayBuffer(file);\n",
              "    });\n",
              "    // Wait for the data to be ready.\n",
              "    let fileData = yield {\n",
              "      promise: fileDataPromise,\n",
              "      response: {\n",
              "        action: 'continue',\n",
              "      }\n",
              "    };\n",
              "\n",
              "    // Use a chunked sending to avoid message size limits. See b/62115660.\n",
              "    let position = 0;\n",
              "    do {\n",
              "      const length = Math.min(fileData.byteLength - position, MAX_PAYLOAD_SIZE);\n",
              "      const chunk = new Uint8Array(fileData, position, length);\n",
              "      position += length;\n",
              "\n",
              "      const base64 = btoa(String.fromCharCode.apply(null, chunk));\n",
              "      yield {\n",
              "        response: {\n",
              "          action: 'append',\n",
              "          file: file.name,\n",
              "          data: base64,\n",
              "        },\n",
              "      };\n",
              "\n",
              "      let percentDone = fileData.byteLength === 0 ?\n",
              "          100 :\n",
              "          Math.round((position / fileData.byteLength) * 100);\n",
              "      percent.textContent = `${percentDone}% done`;\n",
              "\n",
              "    } while (position < fileData.byteLength);\n",
              "  }\n",
              "\n",
              "  // All done.\n",
              "  yield {\n",
              "    response: {\n",
              "      action: 'complete',\n",
              "    }\n",
              "  };\n",
              "}\n",
              "\n",
              "scope.google = scope.google || {};\n",
              "scope.google.colab = scope.google.colab || {};\n",
              "scope.google.colab._files = {\n",
              "  _uploadFiles,\n",
              "  _uploadFilesContinue,\n",
              "};\n",
              "})(self);\n",
              "</script> "
            ]
          },
          "metadata": {}
        },
        {
          "output_type": "stream",
          "name": "stdout",
          "text": [
            "Saving greyscaleimg.jpg to greyscaleimg.jpg\n"
          ]
        }
      ]
    },
    {
      "cell_type": "code",
      "source": [
        "from PIL import Image\n",
        "\n",
        "def img_to_array(path):\n",
        "    img = Image.open(path)\n",
        "    print(\"hello\")\n",
        "\n",
        "    if img.mode == 'L':\n",
        "        array = np.array(img)\n",
        "        np.savetxt('grayscale_image.txt', array, fmt='%d')\n",
        "        print(\"Grayscale image saved as grayscale_image.txt\")\n",
        "\n",
        "    elif img.mode == 'RGB':\n",
        "        array = np.array(img)\n",
        "        reshaped = array.reshape(-1, 3)\n",
        "        np.savetxt('rgb_image.txt', reshaped, fmt='%d')\n",
        "        print(\"RGB image saved as rgb_image.txt\")\n",
        "\n",
        "img_to_array('greyscaleimg.jpg')\n",
        "\n",
        "\n"
      ],
      "metadata": {
        "id": "SIWxEXjohl9H",
        "colab": {
          "base_uri": "https://localhost:8080/"
        },
        "outputId": "22cd1ab0-1a3d-4709-a2d4-dc7a4c3fbc08"
      },
      "execution_count": null,
      "outputs": [
        {
          "output_type": "stream",
          "name": "stdout",
          "text": [
            "hello\n",
            "RGB image saved as rgb_image.txt\n",
            "No file to load.\n"
          ]
        }
      ]
    },
    {
      "cell_type": "markdown",
      "source": [
        "\n",
        "(b) Load the saved file into jupyter notebook?"
      ],
      "metadata": {
        "id": "g7tp950CZycH"
      }
    },
    {
      "cell_type": "code",
      "source": [
        "loaded = np.loadtxt(\"rgb_image.txt\", dtype=int)\n",
        "\n",
        "print(\"Loaded array shape:\", loaded.shape)\n",
        "print(loaded)"
      ],
      "metadata": {
        "colab": {
          "base_uri": "https://localhost:8080/"
        },
        "id": "Jd1LnFaxZ2II",
        "outputId": "be45b803-d193-416b-a516-74903c7f03e1"
      },
      "execution_count": null,
      "outputs": [
        {
          "output_type": "stream",
          "name": "stdout",
          "text": [
            "Loaded array shape: (99600, 3)\n",
            "[[ 89  89  89]\n",
            " [ 88  88  88]\n",
            " [ 88  88  88]\n",
            " ...\n",
            " [103 103 103]\n",
            " [103 103 103]\n",
            " [102 102 102]]\n"
          ]
        }
      ]
    }
  ]
}